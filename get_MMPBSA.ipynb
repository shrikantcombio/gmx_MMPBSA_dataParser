{
 "cells": [
  {
   "cell_type": "code",
   "execution_count": 15,
   "metadata": {},
   "outputs": [],
   "source": [
    "import os\n",
    "import sys\n",
    "import csv\n",
    "import copy\n",
    "import numpy as np\n",
    "import pandas as pd\n",
    "import matplotlib.pyplot as plt\n",
    "pd.options.display.float_format = '{:,.2f}'.format"
   ]
  },
  {
   "cell_type": "code",
   "execution_count": 2,
   "metadata": {},
   "outputs": [],
   "source": [
    "# Define the file paths\n",
    "# GENERALIZED BORN and POISSON BOLTZMANN ENERGY FILE\n",
    "mmpbsa_fh = \"/home/shrikant/Projects/dev_project/gromacs/data/FINAL_RESULTS_MMPBSA.csv\"\n",
    "# READ THE FILE AND CREATE A DATAFRAME\n",
    "mmpbsa_df = pd.read_csv(mmpbsa_fh, sep= ',' ,header=None)"
   ]
  },
  {
   "cell_type": "code",
   "execution_count": 3,
   "metadata": {},
   "outputs": [
    {
     "name": "stdout",
     "output_type": "stream",
     "text": [
      "GENERALIZED BORN: COMPLEX ENERGY INDEX:1\n",
      "GENERALIZED BORN: RECEPTOR ENERGY INDEX:1805\n",
      "GENERALIZED BORN: LIGAND ENERGY INDEX:3609\n",
      "GENERALIZED BORN: DELTA ENERGY INDEX:5413\n"
     ]
    }
   ],
   "source": [
    "# Step 1: Read the entire CSV file as a DataFrame without assuming headers\n",
    "df = pd.read_csv(mmpbsa_fh, header=None)\n",
    "\n",
    "# Step 2: Find the indices where each section starts\n",
    "gb_complex_energy_index = df[df[0] == 'Complex Energy Terms'].index[0]\n",
    "gb_receptor_energy_index = df[df[0] == 'Receptor Energy Terms'].index[0]\n",
    "gb_ligand_energy_index = df[df[0] == 'Ligand Energy Terms'].index[0]\n",
    "gb_delta_energy_index = df[df[0] == 'Delta Energy Terms'].index[0]\n",
    "\n",
    "# Step 3: Find the index where \"POISSON BOLTZMANN\" starts (to stop reading after that)\n",
    "poisson_boltzmann_index = df[df[0] == 'POISSON BOLTZMANN:'].index[0]\n",
    "\n",
    "# Step 4: Extract data of GENERALIZED BORN for \"Complex Energy Terms\"\n",
    "gb_df_complex_energy = df.iloc[gb_complex_energy_index + 2: gb_receptor_energy_index - 1]\n",
    "gb_df_complex_energy.columns = df.iloc[gb_complex_energy_index + 1]  # Set headers as row after \"Complex Energy Terms\"\n",
    "\n",
    "# Step 5: Extract of GENERALIZED BORN data for \"Receptor Energy Terms\"\n",
    "gb_df_receptor_energy = df.iloc[gb_receptor_energy_index + 2: gb_ligand_energy_index-1]\n",
    "gb_df_receptor_energy.columns = df.iloc[gb_receptor_energy_index + 1]  # Set headers as row after \"Receptor Energy Terms\"\n",
    "\n",
    "# Step 6: Extract of GENERALIZED BORN data for \"Ligand Energy Terms\"\n",
    "gb_df_ligand_energy = df.iloc[gb_ligand_energy_index + 2: gb_delta_energy_index-1]\n",
    "gb_df_ligand_energy.columns = df.iloc[gb_ligand_energy_index + 1]  # Set headers as row after \"Ligand Energy Terms\"\n",
    "\n",
    "# Step 7: Extract of GENERALIZED BORN data for \"Delta Energy Terms\"\n",
    "gb_df_delta_energy = df.iloc[gb_delta_energy_index + 2: poisson_boltzmann_index-2]\n",
    "gb_df_delta_energy.columns = df.iloc[gb_delta_energy_index + 1]  # Set headers as row after \"Delta Energy Terms\"\n",
    "\n",
    "# Print the extracted dataframes for each section\n",
    "print(f\"GENERALIZED BORN: COMPLEX ENERGY INDEX:{gb_complex_energy_index}\\nGENERALIZED BORN: RECEPTOR ENERGY INDEX:{gb_receptor_energy_index}\\n\\\n",
    "GENERALIZED BORN: LIGAND ENERGY INDEX:{gb_ligand_energy_index}\\nGENERALIZED BORN: DELTA ENERGY INDEX:{gb_delta_energy_index}\")"
   ]
  },
  {
   "cell_type": "code",
   "execution_count": 13,
   "metadata": {},
   "outputs": [
    {
     "name": "stdout",
     "output_type": "stream",
     "text": [
      "GENERALIZED BORN COMPLEX ENERGY INDEX: 1 GENERALIZED BORN: RECEPTOR ENERGY INDEX:1803\n"
     ]
    }
   ],
   "source": [
    "print(f\"GENERALIZED BORN COMPLEX ENERGY INDEX: {gb_complex_energy_index} GENERALIZED BORN: RECEPTOR ENERGY INDEX:{gb_receptor_energy_index-2}\")"
   ]
  },
  {
   "cell_type": "code",
   "execution_count": 12,
   "metadata": {},
   "outputs": [
    {
     "name": "stdout",
     "output_type": "stream",
     "text": [
      "GENERALIZED BORN RECEPTOR ENERGY INDEX: 1807 GENERALIZED BORN: LIGAND ENERGY INDEX:3607\n"
     ]
    }
   ],
   "source": [
    "print(f\"GENERALIZED BORN RECEPTOR ENERGY INDEX: {gb_receptor_energy_index+2} GENERALIZED BORN: LIGAND ENERGY INDEX:{gb_ligand_energy_index-2}\")"
   ]
  },
  {
   "cell_type": "code",
   "execution_count": 11,
   "metadata": {},
   "outputs": [
    {
     "name": "stdout",
     "output_type": "stream",
     "text": [
      "GENERALIZED BORN LIGAND ENERGY INDEX: 3611 GENERALIZED BORN: DELTA ENERGY INDEX:5411\n"
     ]
    }
   ],
   "source": [
    "print(f\"GENERALIZED BORN LIGAND ENERGY INDEX: {gb_ligand_energy_index+2} GENERALIZED BORN: DELTA ENERGY INDEX:{gb_delta_energy_index-2}\")"
   ]
  },
  {
   "cell_type": "code",
   "execution_count": 10,
   "metadata": {},
   "outputs": [
    {
     "name": "stdout",
     "output_type": "stream",
     "text": [
      "GENERALIZED BORN DELTA ENERGY INDEX: 5415 POISSON BOLTZMANN INDEX:7216\n"
     ]
    }
   ],
   "source": [
    "print(f\"GENERALIZED BORN DELTA ENERGY INDEX: {gb_delta_energy_index+2} POISSON BOLTZMANN INDEX:{poisson_boltzmann_index-2}\")"
   ]
  },
  {
   "cell_type": "code",
   "execution_count": 8,
   "metadata": {},
   "outputs": [
    {
     "data": {
      "image/png": "[encoded data removed]",
      "text/plain": [
       "<Figure size 720x432 with 1 Axes>"
      ]
     },
     "metadata": {
      "needs_background": "light"
     },
     "output_type": "display_data"
    }
   ],
   "source": [
    "# Average columns from the dataframe\n",
    "gb_columns = ['BOND', 'ANGLE', 'DIHED', 'VDWAALS', '1-4 VDW', '1-4 EEL', 'ESURF', 'GGAS', 'GSOLV', 'TOTAL']\n",
    "\n",
    "df = pd.DataFrame(gb_df_delta_energy, columns=gb_columns)\n",
    "# get mean of each columns in df\n",
    "df['BOND'] = pd.to_numeric(df['BOND'], downcast=\"float\")\n",
    "df['ANGLE'] = pd.to_numeric(df['ANGLE'], downcast=\"float\")\n",
    "df['DIHED'] = pd.to_numeric(df['DIHED'], downcast=\"float\")\n",
    "df['VDWAALS'] = pd.to_numeric(df['VDWAALS'], downcast=\"float\")\n",
    "df['1-4 VDW'] = pd.to_numeric(df['1-4 VDW'], downcast=\"float\")\n",
    "df['1-4 EEL'] = pd.to_numeric(df['1-4 EEL'], downcast=\"float\")\n",
    "df['ESURF'] = pd.to_numeric(df['ESURF'], downcast=\"float\")\n",
    "df['GGAS'] = pd.to_numeric(df['GGAS'], downcast=\"float\")\n",
    "df['GSOLV'] = pd.to_numeric(df['GSOLV'], downcast=\"float\")\n",
    "df['TOTAL'] = pd.to_numeric(df['TOTAL'], downcast=\"float\")\n",
    "gb_columns_avg = df[gb_columns].mean()\n",
    "\n",
    "# Plotting the bar plot\n",
    "plt.figure(figsize=(10,6))\n",
    "gb_columns_avg.plot(kind='bar', color='gold', edgecolor='black')\n",
    "plt.title('GB Energy Terms')\n",
    "plt.xlabel('Energy Terms')\n",
    "plt.ylabel('Delta Energy (kcal/mol)')\n",
    "plt.xticks(rotation=45, ha='right')\n",
    "plt.tight_layout()\n",
    "plt.show()"
   ]
  },
  {
   "cell_type": "code",
   "execution_count": 19,
   "metadata": {},
   "outputs": [
    {
     "name": "stdout",
     "output_type": "stream",
     "text": [
      " POSISSON BOLTZMANN INDEX:7218\n",
      " POSISSON BOLTZMANN COMPLEX ENERGY INDEX:7219\n",
      " POSISSON BOLTZMANN RECEPTOR ENERGY INDEX:9023\n",
      " POSISSON BOLTZMANN LIGAND ENERGY INDEX:10827\n",
      " POSISSON BOLTZMANN DELTA ENERGY INDEX:12631\n"
     ]
    }
   ],
   "source": [
    "\n",
    "# Step 3: Slice the DataFrame to keep only the rows before this index\n",
    "df_poisson = df.iloc[poisson_boltzmann_index:]\n",
    "pb_complex_energy_index = df_poisson[df_poisson[0] == 'Complex Energy Terms'].index[0]\n",
    "pb_receptor_energy_index = df_poisson[df_poisson[0] == 'Receptor Energy Terms'].index[0]\n",
    "pb_ligand_energy_index = df_poisson[df_poisson[0] == 'Ligand Energy Terms'].index[0]\n",
    "pb_delta_energy_index = df_poisson[df_poisson[0] == 'Delta Energy Terms'].index[0]\n",
    "\n",
    "# Step 4: Extract data of POISSON BOLTZMANN for \"Complex Energy Terms\"\n",
    "pb_df_complex_energy = df.iloc[pb_complex_energy_index + 2 : pb_receptor_energy_index - 1]\n",
    "pb_df_complex_energy.columns = df.iloc[pb_complex_energy_index + 1]  # Set headers as row after \"Complex Energy Terms\"\n",
    "\n",
    "# Step 5: Extract data of POISSON BOLTZMANN for \"Receptor Energy Terms\"\n",
    "pb_df_receptor_energy = df.iloc[pb_receptor_energy_index + 2 : pb_ligand_energy_index - 1]\n",
    "pb_df_receptor_energy.columns = df.iloc[pb_receptor_energy_index + 1]  # Set headers as row after \"Receptor Energy Terms\"\n",
    "\n",
    "# Step 6: Extract data of POISSON BOLTZMANN for \"Ligand Energy Terms\"\n",
    "pb_df_ligand_energy = df.iloc[pb_ligand_energy_index + 2 : pb_delta_energy_index - 1]\n",
    "pb_df_ligand_energy.columns = df.iloc[pb_ligand_energy_index + 1]  # Set headers as row after \"Ligand Energy Terms\"\n",
    "\n",
    "# Step 7: Extract data of POISSON BOLTZMANN for \"Delta Energy Terms\"\n",
    "pb_df_delta_energy = df.iloc[pb_delta_energy_index + 2:]\n",
    "pb_df_delta_energy.columns = df.iloc[pb_delta_energy_index + 1]  # Set headers as row after \"Delta Energy Terms\"\n",
    "\n",
    "print(f\" POSISSON BOLTZMANN INDEX:{poisson_boltzmann_index}\\n POSISSON BOLTZMANN COMPLEX ENERGY INDEX:{pb_complex_energy_index}\\n \\\n",
    "POSISSON BOLTZMANN RECEPTOR ENERGY INDEX:{pb_receptor_energy_index}\\n POSISSON BOLTZMANN LIGAND ENERGY INDEX:{pb_ligand_energy_index}\\n \\\n",
    "POSISSON BOLTZMANN DELTA ENERGY INDEX:{pb_delta_energy_index}\")"
   ]
  },
  {
   "cell_type": "code",
   "execution_count": 21,
   "metadata": {},
   "outputs": [
    {
     "name": "stdout",
     "output_type": "stream",
     "text": [
      "POISSION BOLTAZMANN INDEX: 7218\n",
      "COMPLEX ENERGY INDEX: 7221  LIGAND ENERGY INDEX: 9021\n"
     ]
    }
   ],
   "source": [
    "# Step 5: Find the index of the row that starts with 'Receptor Energy Terms'\n",
    "print(f\"POISSION BOLTAZMANN INDEX: {poisson_boltzmann_index}\\nCOMPLEX ENERGY INDEX: {pb_complex_energy_index+2}  LIGAND ENERGY INDEX: {pb_receptor_energy_index-2}\")"
   ]
  },
  {
   "cell_type": "code",
   "execution_count": 22,
   "metadata": {},
   "outputs": [
    {
     "name": "stdout",
     "output_type": "stream",
     "text": [
      "RECEPTOR ENERGY INDEX: 9025 RECEPTOR ENERGY INDEX: 10825\n"
     ]
    }
   ],
   "source": [
    "print(f\"RECEPTOR ENERGY INDEX: {pb_receptor_energy_index+2} RECEPTOR ENERGY INDEX: {pb_ligand_energy_index-2}\")"
   ]
  },
  {
   "cell_type": "code",
   "execution_count": 23,
   "metadata": {},
   "outputs": [
    {
     "name": "stdout",
     "output_type": "stream",
     "text": [
      "LIGAND ENERGY INDEX: 10829 DELTA ENERGY INDEX: 12629\n"
     ]
    }
   ],
   "source": [
    "print(f\"LIGAND ENERGY INDEX: {pb_ligand_energy_index+2} DELTA ENERGY INDEX: {pb_delta_energy_index-2}\")"
   ]
  },
  {
   "cell_type": "code",
   "execution_count": 24,
   "metadata": {},
   "outputs": [
    {
     "name": "stdout",
     "output_type": "stream",
     "text": [
      "DELTA ENERGY INDEX: 12633 DELTA ENERGY END INDEX: 14433\n"
     ]
    }
   ],
   "source": [
    "# Step 7: Extract data for \"Delta Energy Terms\"\n",
    "print (f\"DELTA ENERGY INDEX: {pb_delta_energy_index+2} DELTA ENERGY END INDEX: {pb_df_delta_energy.index[-1]}\")"
   ]
  },
  {
   "cell_type": "code",
   "execution_count": 25,
   "metadata": {},
   "outputs": [
    {
     "data": {
      "image/png": "[encoded data removed]",
      "text/plain": [
       "<Figure size 720x432 with 1 Axes>"
      ]
     },
     "metadata": {
      "needs_background": "light"
     },
     "output_type": "display_data"
    }
   ],
   "source": [
    "# Average columns from the dataframe\n",
    "pb_columns = ['BOND', 'ANGLE', 'DIHED', 'VDWAALS', '1-4 VDW', '1-4 EEL', 'ESURF', 'GGAS', 'GSOLV', 'TOTAL']\n",
    "\n",
    "df = pd.DataFrame(pb_df_delta_energy, columns=gb_columns)\n",
    "# get mean of each columns in df\n",
    "df['BOND'] = pd.to_numeric(df['BOND'], downcast=\"float\")\n",
    "df['ANGLE'] = pd.to_numeric(df['ANGLE'], downcast=\"float\")\n",
    "df['DIHED'] = pd.to_numeric(df['DIHED'], downcast=\"float\")\n",
    "df['VDWAALS'] = pd.to_numeric(df['VDWAALS'], downcast=\"float\")\n",
    "df['1-4 VDW'] = pd.to_numeric(df['1-4 VDW'], downcast=\"float\")\n",
    "df['1-4 EEL'] = pd.to_numeric(df['1-4 EEL'], downcast=\"float\")\n",
    "df['ESURF'] = pd.to_numeric(df['ESURF'], downcast=\"float\")\n",
    "df['GGAS'] = pd.to_numeric(df['GGAS'], downcast=\"float\")\n",
    "df['GSOLV'] = pd.to_numeric(df['GSOLV'], downcast=\"float\")\n",
    "df['TOTAL'] = pd.to_numeric(df['TOTAL'], downcast=\"float\")\n",
    "pb_columns_avg = df[pb_columns].mean()\n",
    "\n",
    "# Plotting the bar plot\n",
    "plt.figure(figsize=(10,6))\n",
    "pb_columns_avg.plot(kind='bar', color='gold', edgecolor='black')\n",
    "plt.title('PB Delta Energy Terms')\n",
    "plt.xlabel('Energy Terms')\n",
    "plt.ylabel('Average Value (kcal/mol)')\n",
    "plt.xticks(rotation=45, ha='right')\n",
    "plt.tight_layout()\n",
    "plt.show()"
   ]
  }
 ],
 "metadata": {
  "kernelspec": {
   "display_name": "base",
   "language": "python",
   "name": "python3"
  },
  "language_info": {
   "codemirror_mode": {
    "name": "ipython",
    "version": 3
   },
   "file_extension": ".py",
   "mimetype": "text/x-python",
   "name": "python",
   "nbconvert_exporter": "python",
   "pygments_lexer": "ipython3",
   "version": "3.9.12"
  }
 },
 "nbformat": 4,
 "nbformat_minor": 2
}
